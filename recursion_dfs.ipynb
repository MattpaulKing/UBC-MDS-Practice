{
 "cells": [
  {
   "cell_type": "markdown",
   "metadata": {},
   "source": [
    "## Playing around with data structures + recursion"
   ]
  },
  {
   "cell_type": "code",
   "execution_count": 24,
   "metadata": {},
   "outputs": [],
   "source": [
    "from collections import defaultdict\n",
    "import numpy as np\n",
    "import pandas as pd\n",
    "from random import random\n",
    "import pdb"
   ]
  },
  {
   "cell_type": "code",
   "execution_count": 1,
   "metadata": {},
   "outputs": [],
   "source": [
    "def rec_sum(my_list):\n",
    "    if len(my_list) > 0:\n",
    "        return my_list.pop() + rec_sum(my_list)\n",
    "    else:\n",
    "        return 0"
   ]
  },
  {
   "cell_type": "code",
   "execution_count": 2,
   "metadata": {},
   "outputs": [
    {
     "data": {
      "text/plain": [
       "10"
      ]
     },
     "execution_count": 2,
     "metadata": {},
     "output_type": "execute_result"
    }
   ],
   "source": [
    "sum_l = [1, 2, 3, 4]\n",
    "\n",
    "rec_sum(sum_l)"
   ]
  },
  {
   "cell_type": "code",
   "execution_count": 3,
   "metadata": {},
   "outputs": [],
   "source": [
    "class TreeSet:\n",
    "    \"\"\"\n",
    "    A set implementation based on a binary tree.\n",
    "    \"\"\"\n",
    "\n",
    "    def __init__(self):\n",
    "        self.value = None\n",
    "        self.left = None\n",
    "        self.right = None\n",
    "\n",
    "    \n",
    "    \n",
    "    def __str__(self, s=\"\"):\n",
    "        if self.value is None:\n",
    "            return \"(An empty tree)\"\n",
    "\n",
    "        s += self.value + \", \"\n",
    "\n",
    "        if self.right is not None:\n",
    "            s += self.right.__str__()\n",
    "\n",
    "        if self.left is not None:\n",
    "            s += self.left.__str__()\n",
    "\n",
    "        return s\n",
    "    \n",
    "    def contains(self, query_val):\n",
    "        if self.value == query_val:\n",
    "            return True\n",
    "        if self.left is None and self.right is not None:\n",
    "            return self.right.contains(query_val)\n",
    "        if self.right is None and self.left is not None:\n",
    "            return self.left.contains(query_val)\n",
    "        if self.right is not None and self.left is not None:\n",
    "            left = self.left.contains(query_val)\n",
    "            right = self.right.contains(query_val)\n",
    "            if left != right:\n",
    "                return True\n",
    "        return False\n",
    "            \n",
    "\n",
    "\n",
    "    def insert(self, new_val):\n",
    "        if self.value is None:\n",
    "            self.value = new_val\n",
    "        if new_val > self.value and self.right is None:\n",
    "            self.right = TreeSet()\n",
    "            self.right.insert(new_val)\n",
    "        if new_val < self.value and self.left is None:\n",
    "            self.left = TreeSet()\n",
    "            self.left.insert(new_val)\n",
    "        if new_val > self.value:\n",
    "            self.right.insert(new_val)\n",
    "        if new_val < self.value:\n",
    "            self.left.insert(new_val)\n"
   ]
  },
  {
   "cell_type": "code",
   "execution_count": 4,
   "metadata": {},
   "outputs": [
    {
     "name": "stdout",
     "output_type": "stream",
     "text": [
      "today, hello, jerry, data science, apple, 17, \n"
     ]
    }
   ],
   "source": [
    "my_set = TreeSet()\n",
    "my_set.insert(\"today\")\n",
    "my_set.insert(\"hello\")\n",
    "my_set.insert(\"data science\")\n",
    "my_set.insert(\"jerry\")\n",
    "my_set.insert(\"apple\")\n",
    "my_set.insert(\"17\")\n",
    "my_set.insert(\"hello\")\n",
    "print(my_set)"
   ]
  },
  {
   "cell_type": "code",
   "execution_count": 5,
   "metadata": {},
   "outputs": [
    {
     "data": {
      "text/plain": [
       "True"
      ]
     },
     "execution_count": 5,
     "metadata": {},
     "output_type": "execute_result"
    }
   ],
   "source": [
    "my_set.contains(\"17\")"
   ]
  },
  {
   "cell_type": "code",
   "execution_count": 15,
   "metadata": {},
   "outputs": [
    {
     "name": "stdout",
     "output_type": "stream",
     "text": [
      "List size:  100\n",
      "List size:  1000\n",
      "List size:  10000\n",
      "List size:  100000\n",
      "List size:  1000000\n"
     ]
    }
   ],
   "source": [
    "list_sizes = [100, 1000, 10_000, 100_000, 1_000_000]\n",
    "\n",
    "results = defaultdict(list)\n",
    "results[\"size\"] = list_sizes\n",
    "\n",
    "key = -1\n",
    "\n",
    "for list_size in list_sizes:\n",
    "    print('List size: ', list_size)\n",
    "    x = np.random.randint(1e8, size=list_size)\n",
    "\n",
    "    x_set = set(x)\n",
    "    time = %timeit -q -o -r 1 (key in x_set)\n",
    "    results[\"Python set in\"].append(time.average)\n",
    "\n"
   ]
  },
  {
   "cell_type": "code",
   "execution_count": 16,
   "metadata": {},
   "outputs": [
    {
     "name": "stdout",
     "output_type": "stream",
     "text": [
      "List size:  100\n",
      "List size:  1000\n",
      "List size:  10000\n",
      "List size:  100000\n",
      "List size:  1000000\n"
     ]
    }
   ],
   "source": [
    "key = -1\n",
    "\n",
    "for list_size in list_sizes:\n",
    "    print('List size: ', list_size)\n",
    "    x = np.random.randint(1e8, size=list_size)\n",
    "    tree = TreeSet()\n",
    "\n",
    "    for n in x:\n",
    "        tree.insert(n)\n",
    "    time = %timeit -q -o -r 1 (tree.contains(key))\n",
    "    results[\"Tree contains in \"].append(time.average)\n"
   ]
  },
  {
   "cell_type": "code",
   "execution_count": 17,
   "metadata": {},
   "outputs": [
    {
     "data": {
      "text/html": [
       "<div>\n",
       "<style scoped>\n",
       "    .dataframe tbody tr th:only-of-type {\n",
       "        vertical-align: middle;\n",
       "    }\n",
       "\n",
       "    .dataframe tbody tr th {\n",
       "        vertical-align: top;\n",
       "    }\n",
       "\n",
       "    .dataframe thead th {\n",
       "        text-align: right;\n",
       "    }\n",
       "</style>\n",
       "<table border=\"1\" class=\"dataframe\">\n",
       "  <thead>\n",
       "    <tr style=\"text-align: right;\">\n",
       "      <th></th>\n",
       "      <th>size</th>\n",
       "      <th>Python set in</th>\n",
       "      <th>Tree contains in</th>\n",
       "    </tr>\n",
       "  </thead>\n",
       "  <tbody>\n",
       "    <tr>\n",
       "      <th>0</th>\n",
       "      <td>100</td>\n",
       "      <td>8.266569e-08</td>\n",
       "      <td>0.000072</td>\n",
       "    </tr>\n",
       "    <tr>\n",
       "      <th>1</th>\n",
       "      <td>1000</td>\n",
       "      <td>8.177403e-08</td>\n",
       "      <td>0.000775</td>\n",
       "    </tr>\n",
       "    <tr>\n",
       "      <th>2</th>\n",
       "      <td>10000</td>\n",
       "      <td>1.645903e-07</td>\n",
       "      <td>0.008910</td>\n",
       "    </tr>\n",
       "    <tr>\n",
       "      <th>3</th>\n",
       "      <td>100000</td>\n",
       "      <td>1.124867e-07</td>\n",
       "      <td>0.100084</td>\n",
       "    </tr>\n",
       "    <tr>\n",
       "      <th>4</th>\n",
       "      <td>1000000</td>\n",
       "      <td>9.244259e-08</td>\n",
       "      <td>1.118680</td>\n",
       "    </tr>\n",
       "  </tbody>\n",
       "</table>\n",
       "</div>"
      ],
      "text/plain": [
       "      size  Python set in  Tree contains in \n",
       "0      100   8.266569e-08           0.000072\n",
       "1     1000   8.177403e-08           0.000775\n",
       "2    10000   1.645903e-07           0.008910\n",
       "3   100000   1.124867e-07           0.100084\n",
       "4  1000000   9.244259e-08           1.118680"
      ]
     },
     "execution_count": 17,
     "metadata": {},
     "output_type": "execute_result"
    }
   ],
   "source": [
    "df = pd.DataFrame(results)\n",
    "df"
   ]
  },
  {
   "cell_type": "code",
   "execution_count": 18,
   "metadata": {},
   "outputs": [
    {
     "name": "stdout",
     "output_type": "stream",
     "text": [
      "\u001b[1;31mDocstring:\u001b[0m\n",
      "print(value, ..., sep=' ', end='\\n', file=sys.stdout, flush=False)\n",
      "\n",
      "Prints the values to a stream, or to sys.stdout by default.\n",
      "Optional keyword arguments:\n",
      "file:  a file-like object (stream); defaults to the current sys.stdout.\n",
      "sep:   string inserted between values, default a space.\n",
      "end:   string appended after the last value, default a newline.\n",
      "flush: whether to forcibly flush the stream.\n",
      "\u001b[1;31mType:\u001b[0m      builtin_function_or_method\n"
     ]
    }
   ],
   "source": [
    "print?"
   ]
  },
  {
   "cell_type": "code",
   "execution_count": null,
   "metadata": {},
   "outputs": [],
   "source": []
  }
 ],
 "metadata": {
  "interpreter": {
   "hash": "2be5faf79681da6f2a61fdfdd5405d65d042280f7fba6178067603e3a2925119"
  },
  "kernelspec": {
   "display_name": "Python 3.10.2 64-bit",
   "language": "python",
   "name": "python3"
  },
  "language_info": {
   "codemirror_mode": {
    "name": "ipython",
    "version": 3
   },
   "file_extension": ".py",
   "mimetype": "text/x-python",
   "name": "python",
   "nbconvert_exporter": "python",
   "pygments_lexer": "ipython3",
   "version": "3.10.2"
  },
  "orig_nbformat": 4
 },
 "nbformat": 4,
 "nbformat_minor": 2
}
